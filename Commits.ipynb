{
  "nbformat": 4,
  "nbformat_minor": 0,
  "metadata": {
    "colab": {
      "name": "Commits.ipynb",
      "provenance": [],
      "authorship_tag": "ABX9TyN8WYuwG86/CbxqYYegaKLb",
      "include_colab_link": true
    },
    "kernelspec": {
      "name": "python3",
      "display_name": "Python 3"
    }
  },
  "cells": [
    {
      "cell_type": "markdown",
      "metadata": {
        "id": "view-in-github",
        "colab_type": "text"
      },
      "source": [
        "<a href=\"https://colab.research.google.com/github/Pogayo/Machine-Learning/blob/master/Commits.ipynb\" target=\"_parent\"><img src=\"https://colab.research.google.com/assets/colab-badge.svg\" alt=\"Open In Colab\"/></a>"
      ]
    },
    {
      "cell_type": "code",
      "metadata": {
        "id": "tZvkSWtbnweJ",
        "colab_type": "code",
        "outputId": "946208c6-2bdf-49dd-82d8-84c00c7df2f3",
        "colab": {
          "resources": {
            "http://localhost:8080/nbextensions/google.colab/files.js": {
              "data": "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",
              "ok": true,
              "headers": [
                [
                  "content-type",
                  "application/javascript"
                ]
              ],
              "status": 200,
              "status_text": ""
            }
          },
          "base_uri": "https://localhost:8080/",
          "height": 74
        }
      },
      "source": [
        "from google.colab import files\n",
        "uploaded=files.upload()"
      ],
      "execution_count": 5,
      "outputs": [
        {
          "output_type": "display_data",
          "data": {
            "text/html": [
              "\n",
              "     <input type=\"file\" id=\"files-0d4bbfcf-e097-471d-97c4-6816f520528d\" name=\"files[]\" multiple disabled />\n",
              "     <output id=\"result-0d4bbfcf-e097-471d-97c4-6816f520528d\">\n",
              "      Upload widget is only available when the cell has been executed in the\n",
              "      current browser session. Please rerun this cell to enable.\n",
              "      </output>\n",
              "      <script src=\"/nbextensions/google.colab/files.js\"></script> "
            ],
            "text/plain": [
              "<IPython.core.display.HTML object>"
            ]
          },
          "metadata": {
            "tags": []
          }
        },
        {
          "output_type": "stream",
          "text": [
            "Saving commits.csv to commits.csv\n"
          ],
          "name": "stdout"
        }
      ]
    },
    {
      "cell_type": "code",
      "metadata": {
        "id": "Fnxpkhd1nznR",
        "colab_type": "code",
        "colab": {}
      },
      "source": [
        "from textblob import TextBlob\n",
        "import numpy as np\n",
        "import pandas as pd\n",
        "import io\n",
        "import matplotlib.pyplot as plt"
      ],
      "execution_count": 0,
      "outputs": []
    },
    {
      "cell_type": "code",
      "metadata": {
        "id": "9ZRLYsoon4bB",
        "colab_type": "code",
        "colab": {}
      },
      "source": [
        "msg_df=pd.read_csv(io.BytesIO(uploaded[\"commits.csv\"]), header=None)"
      ],
      "execution_count": 0,
      "outputs": []
    },
    {
      "cell_type": "code",
      "metadata": {
        "id": "WBoP3tECokC-",
        "colab_type": "code",
        "colab": {
          "base_uri": "https://localhost:8080/",
          "height": 224
        },
        "outputId": "d444cf82-eaff-4a93-9470-77c166b35249"
      },
      "source": [
        "msg_df.head()"
      ],
      "execution_count": 22,
      "outputs": [
        {
          "output_type": "execute_result",
          "data": {
            "text/html": [
              "<div>\n",
              "<style scoped>\n",
              "    .dataframe tbody tr th:only-of-type {\n",
              "        vertical-align: middle;\n",
              "    }\n",
              "\n",
              "    .dataframe tbody tr th {\n",
              "        vertical-align: top;\n",
              "    }\n",
              "\n",
              "    .dataframe thead th {\n",
              "        text-align: right;\n",
              "    }\n",
              "</style>\n",
              "<table border=\"1\" class=\"dataframe\">\n",
              "  <thead>\n",
              "    <tr style=\"text-align: right;\">\n",
              "      <th></th>\n",
              "      <th>cmt_id</th>\n",
              "      <th>repo_id</th>\n",
              "      <th>cmt_commit_hash</th>\n",
              "      <th>cmt_author_name</th>\n",
              "      <th>cmt_author_raw_email</th>\n",
              "      <th>cmt_author_email</th>\n",
              "      <th>cmt_author_date</th>\n",
              "      <th>cmt_author_affiliation</th>\n",
              "      <th>cmt_committer_name</th>\n",
              "      <th>cmt_committer_raw_email</th>\n",
              "      <th>cmt_committer_email</th>\n",
              "      <th>cmt_committer_date</th>\n",
              "      <th>cmt_committer_affiliation</th>\n",
              "      <th>cmt_added</th>\n",
              "      <th>cmt_removed</th>\n",
              "      <th>cmt_whitespace</th>\n",
              "      <th>cmt_filename</th>\n",
              "      <th>cmt_date_attempted</th>\n",
              "      <th>cmt_ght_author_id</th>\n",
              "      <th>cmt_ght_committer_id</th>\n",
              "      <th>cmt_ght_committed_at</th>\n",
              "      <th>tool_source</th>\n",
              "      <th>tool_version</th>\n",
              "      <th>data_source</th>\n",
              "      <th>data_collection_date</th>\n",
              "      <th>cmt_author_timestamp</th>\n",
              "      <th>cmt_committer_timestamp</th>\n",
              "    </tr>\n",
              "  </thead>\n",
              "  <tbody>\n",
              "    <tr>\n",
              "      <th>0</th>\n",
              "      <td>34304725</td>\n",
              "      <td>25433</td>\n",
              "      <td>0597b8c0eea09f494d2723c12e0ec4336ff148d4</td>\n",
              "      <td>Sean P. Goggins</td>\n",
              "      <td>s@goggins.com</td>\n",
              "      <td>s@goggins.com</td>\n",
              "      <td>2019-06-22</td>\n",
              "      <td>NaN</td>\n",
              "      <td>GitHub</td>\n",
              "      <td>noreply@github.com</td>\n",
              "      <td>noreply@github.com</td>\n",
              "      <td>2019-06-22</td>\n",
              "      <td>NaN</td>\n",
              "      <td>0</td>\n",
              "      <td>0</td>\n",
              "      <td>0</td>\n",
              "      <td>(Merge commit)</td>\n",
              "      <td>2019-06-22 00:00:00</td>\n",
              "      <td>NaN</td>\n",
              "      <td>NaN</td>\n",
              "      <td>NaN</td>\n",
              "      <td>'FacadeAugur'</td>\n",
              "      <td>'0.0.1'</td>\n",
              "      <td>'git_repository'</td>\n",
              "      <td>2019-10-19 16:08:53</td>\n",
              "      <td>2019-06-22 15:37:20+02</td>\n",
              "      <td>2019-06-22 15:37:20+02</td>\n",
              "    </tr>\n",
              "    <tr>\n",
              "      <th>1</th>\n",
              "      <td>34304726</td>\n",
              "      <td>25433</td>\n",
              "      <td>689593cfdc260b353fb54b6e4952ac387b75be01</td>\n",
              "      <td>Georg J.P. Link</td>\n",
              "      <td>linkgeorg@gmail.com</td>\n",
              "      <td>linkgeorg@gmail.com</td>\n",
              "      <td>2019-07-29</td>\n",
              "      <td>NaN</td>\n",
              "      <td>GitHub</td>\n",
              "      <td>noreply@github.com</td>\n",
              "      <td>noreply@github.com</td>\n",
              "      <td>2019-07-29</td>\n",
              "      <td>NaN</td>\n",
              "      <td>10</td>\n",
              "      <td>3</td>\n",
              "      <td>0</td>\n",
              "      <td>metrics/Elephant_Factor.md</td>\n",
              "      <td>2019-07-29 00:00:00</td>\n",
              "      <td>NaN</td>\n",
              "      <td>NaN</td>\n",
              "      <td>NaN</td>\n",
              "      <td>'FacadeAugur'</td>\n",
              "      <td>'0.0.1'</td>\n",
              "      <td>'git_repository'</td>\n",
              "      <td>2019-10-19 16:08:53</td>\n",
              "      <td>2019-07-29 20:49:46+02</td>\n",
              "      <td>2019-07-29 20:49:46+02</td>\n",
              "    </tr>\n",
              "    <tr>\n",
              "      <th>2</th>\n",
              "      <td>34304727</td>\n",
              "      <td>25433</td>\n",
              "      <td>a77fb07ec053183bd2d71e6a751e9e53e7a4cd29</td>\n",
              "      <td>Matt Germonprez</td>\n",
              "      <td>germonprez@gmail.com</td>\n",
              "      <td>germonprez@gmail.com</td>\n",
              "      <td>2019-08-02</td>\n",
              "      <td>NaN</td>\n",
              "      <td>GitHub</td>\n",
              "      <td>noreply@github.com</td>\n",
              "      <td>noreply@github.com</td>\n",
              "      <td>2019-08-02</td>\n",
              "      <td>NaN</td>\n",
              "      <td>12</td>\n",
              "      <td>14</td>\n",
              "      <td>2</td>\n",
              "      <td>metrics/License_Count.md</td>\n",
              "      <td>2019-08-02 00:00:00</td>\n",
              "      <td>NaN</td>\n",
              "      <td>NaN</td>\n",
              "      <td>NaN</td>\n",
              "      <td>'FacadeAugur'</td>\n",
              "      <td>'0.0.1'</td>\n",
              "      <td>'git_repository'</td>\n",
              "      <td>2019-10-19 16:08:53</td>\n",
              "      <td>2019-08-02 13:29:20+02</td>\n",
              "      <td>2019-08-02 13:29:20+02</td>\n",
              "    </tr>\n",
              "    <tr>\n",
              "      <th>3</th>\n",
              "      <td>34304728</td>\n",
              "      <td>25433</td>\n",
              "      <td>1465ca8c219783adcdbd90673a728c9a43c45bea</td>\n",
              "      <td>Matt Snell</td>\n",
              "      <td>msnell@unomaha.edu</td>\n",
              "      <td>msnell@unomaha.edu</td>\n",
              "      <td>2019-03-26</td>\n",
              "      <td>NaN</td>\n",
              "      <td>GitHub</td>\n",
              "      <td>noreply@github.com</td>\n",
              "      <td>noreply@github.com</td>\n",
              "      <td>2019-03-26</td>\n",
              "      <td>NaN</td>\n",
              "      <td>17</td>\n",
              "      <td>1</td>\n",
              "      <td>4</td>\n",
              "      <td>LICENSE</td>\n",
              "      <td>2019-03-26 00:00:00</td>\n",
              "      <td>NaN</td>\n",
              "      <td>NaN</td>\n",
              "      <td>NaN</td>\n",
              "      <td>'FacadeAugur'</td>\n",
              "      <td>'0.0.1'</td>\n",
              "      <td>'git_repository'</td>\n",
              "      <td>2019-10-19 16:08:53</td>\n",
              "      <td>2019-03-26 11:31:18+02</td>\n",
              "      <td>2019-03-26 11:31:18+02</td>\n",
              "    </tr>\n",
              "    <tr>\n",
              "      <th>4</th>\n",
              "      <td>34304729</td>\n",
              "      <td>25433</td>\n",
              "      <td>f2757c9ac4ba2f056fc76d52636c17aa5beba48e</td>\n",
              "      <td>Matt Germonprez</td>\n",
              "      <td>germonprez@gmail.com</td>\n",
              "      <td>germonprez@gmail.com</td>\n",
              "      <td>2019-08-02</td>\n",
              "      <td>NaN</td>\n",
              "      <td>GitHub</td>\n",
              "      <td>noreply@github.com</td>\n",
              "      <td>noreply@github.com</td>\n",
              "      <td>2019-08-02</td>\n",
              "      <td>NaN</td>\n",
              "      <td>17</td>\n",
              "      <td>19</td>\n",
              "      <td>2</td>\n",
              "      <td>metrics/Test_Coverage.md</td>\n",
              "      <td>2019-08-02 00:00:00</td>\n",
              "      <td>NaN</td>\n",
              "      <td>NaN</td>\n",
              "      <td>NaN</td>\n",
              "      <td>'FacadeAugur'</td>\n",
              "      <td>'0.0.1'</td>\n",
              "      <td>'git_repository'</td>\n",
              "      <td>2019-10-19 16:08:53</td>\n",
              "      <td>2019-08-02 13:27:38+02</td>\n",
              "      <td>2019-08-02 13:27:38+02</td>\n",
              "    </tr>\n",
              "  </tbody>\n",
              "</table>\n",
              "</div>"
            ],
            "text/plain": [
              "     cmt_id  repo_id  ...    cmt_author_timestamp cmt_committer_timestamp\n",
              "0  34304725    25433  ...  2019-06-22 15:37:20+02  2019-06-22 15:37:20+02\n",
              "1  34304726    25433  ...  2019-07-29 20:49:46+02  2019-07-29 20:49:46+02\n",
              "2  34304727    25433  ...  2019-08-02 13:29:20+02  2019-08-02 13:29:20+02\n",
              "3  34304728    25433  ...  2019-03-26 11:31:18+02  2019-03-26 11:31:18+02\n",
              "4  34304729    25433  ...  2019-08-02 13:27:38+02  2019-08-02 13:27:38+02\n",
              "\n",
              "[5 rows x 27 columns]"
            ]
          },
          "metadata": {
            "tags": []
          },
          "execution_count": 22
        }
      ]
    },
    {
      "cell_type": "code",
      "metadata": {
        "id": "5qMTM__p2c8l",
        "colab_type": "code",
        "colab": {
          "base_uri": "https://localhost:8080/",
          "height": 102
        },
        "outputId": "6b912788-560a-4540-f02f-906fbb4ca052"
      },
      "source": [
        "msg_df[\"cmt_author_email\"].describe()"
      ],
      "execution_count": 32,
      "outputs": [
        {
          "output_type": "execute_result",
          "data": {
            "text/plain": [
              "count                       20946\n",
              "unique                         75\n",
              "top       ccarterlandis@gmail.com\n",
              "freq                         4663\n",
              "Name: cmt_author_email, dtype: object"
            ]
          },
          "metadata": {
            "tags": []
          },
          "execution_count": 32
        }
      ]
    },
    {
      "cell_type": "code",
      "metadata": {
        "id": "WOzCEMt4yKGx",
        "colab_type": "code",
        "colab": {}
      },
      "source": [
        "columns=[\n",
        "         \"cmt_id\" ,\n",
        "  \"repo_id\" ,\n",
        "  \"cmt_commit_hash\" ,\n",
        "  \"cmt_author_name\" ,\n",
        "  \"cmt_author_raw_email\" ,\n",
        "  \"cmt_author_email\" ,\n",
        "  \"cmt_author_date\" ,\n",
        "  \"cmt_author_affiliation\" ,\n",
        "  \"cmt_committer_name\" ,\n",
        "  \"cmt_committer_raw_email\" ,\n",
        "  \"cmt_committer_email\" ,\n",
        "  \"cmt_committer_date\" ,\n",
        "  \"cmt_committer_affiliation\" ,\n",
        "  \"cmt_added\" ,\n",
        "  \"cmt_removed\" ,\n",
        "  \"cmt_whitespace\",\n",
        "  \"cmt_filename\" ,\n",
        "  \"cmt_date_attempted\" ,\n",
        "  \"cmt_ght_author_id\" ,\n",
        "  \"cmt_ght_committer_id\",\n",
        "  \"cmt_ght_committed_at\",\n",
        "  \"tool_source\" ,\n",
        "  \"tool_version\",\n",
        "  \"data_source\",\n",
        "  \"data_collection_date\",\n",
        "  \"cmt_author_timestamp\" ,\n",
        "  \"cmt_committer_timestamp\"\n",
        "]"
      ],
      "execution_count": 0,
      "outputs": []
    },
    {
      "cell_type": "code",
      "metadata": {
        "id": "1Q71BVY6zO3X",
        "colab_type": "code",
        "colab": {}
      },
      "source": [
        "msg_df.columns=columns"
      ],
      "execution_count": 0,
      "outputs": []
    },
    {
      "cell_type": "code",
      "metadata": {
        "id": "oNQSw0l1uz6O",
        "colab_type": "code",
        "colab": {}
      },
      "source": [
        "def getDuplicateColumns(df):\n",
        "    '''\n",
        "    Get a list of duplicate columns.\n",
        "    It will iterate over all the columns in dataframe and find the columns whose contents are duplicate.\n",
        "    :param df: Dataframe object\n",
        "    :return: List of columns whose contents are duplicates.\n",
        "    '''\n",
        "    duplicateColumnNames = set()\n",
        "    # Iterate over all the columns in dataframe\n",
        "    for x in range(df.shape[1]):\n",
        "        # Select column at xth index.\n",
        "        col = df.iloc[:, x]\n",
        "        # Iterate over all the columns in DataFrame from (x+1)th index till end\n",
        "        for y in range(x + 1, df.shape[1]):\n",
        "            # Select column at yth index.\n",
        "            otherCol = df.iloc[:, y]\n",
        "            # Check if two columns at x 7 y index are equal\n",
        "            if col.equals(otherCol):\n",
        "                duplicateColumnNames.add(df.columns.values[y])\n",
        " \n",
        "    return list(duplicateColumnNames)"
      ],
      "execution_count": 0,
      "outputs": []
    },
    {
      "cell_type": "code",
      "metadata": {
        "id": "vYG3M24avExa",
        "colab_type": "code",
        "colab": {
          "base_uri": "https://localhost:8080/",
          "height": 136
        },
        "outputId": "0c2d0c2f-657f-4117-99cf-c76ced7c2e46"
      },
      "source": [
        "duplicateColumnNames = getDuplicateColumns(msg_df)\n",
        "print('Duplicate Columns are as follows')\n",
        "for col in duplicateColumnNames:\n",
        "  print('Column name : ', col)"
      ],
      "execution_count": 30,
      "outputs": [
        {
          "output_type": "stream",
          "text": [
            "Duplicate Columns are as follows\n",
            "Column name :  cmt_ght_committed_at\n",
            "Column name :  cmt_ght_committer_id\n",
            "Column name :  cmt_author_email\n",
            "Column name :  cmt_ght_author_id\n",
            "Column name :  cmt_committer_email\n",
            "Column name :  cmt_committer_affiliation\n"
          ],
          "name": "stdout"
        }
      ]
    },
    {
      "cell_type": "code",
      "metadata": {
        "id": "pGVpfLKbwG4e",
        "colab_type": "code",
        "colab": {
          "base_uri": "https://localhost:8080/",
          "height": 561
        },
        "outputId": "f5e5e3b3-3340-4a1a-c1ba-9ebb61a0a16c"
      },
      "source": [
        "msg_df.info()"
      ],
      "execution_count": 17,
      "outputs": [
        {
          "output_type": "stream",
          "text": [
            "<class 'pandas.core.frame.DataFrame'>\n",
            "RangeIndex: 20946 entries, 0 to 20945\n",
            "Data columns (total 27 columns):\n",
            "0     20946 non-null int64\n",
            "1     20946 non-null int64\n",
            "2     20946 non-null object\n",
            "3     20946 non-null object\n",
            "4     20946 non-null object\n",
            "5     20946 non-null object\n",
            "6     20946 non-null object\n",
            "7     0 non-null float64\n",
            "8     20946 non-null object\n",
            "9     20946 non-null object\n",
            "10    20946 non-null object\n",
            "11    20946 non-null object\n",
            "12    0 non-null float64\n",
            "13    20946 non-null int64\n",
            "14    20946 non-null int64\n",
            "15    20946 non-null int64\n",
            "16    19633 non-null object\n",
            "17    20946 non-null object\n",
            "18    0 non-null float64\n",
            "19    0 non-null float64\n",
            "20    0 non-null float64\n",
            "21    20946 non-null object\n",
            "22    20946 non-null object\n",
            "23    20946 non-null object\n",
            "24    20946 non-null object\n",
            "25    20946 non-null object\n",
            "26    20946 non-null object\n",
            "dtypes: float64(5), int64(5), object(17)\n",
            "memory usage: 4.3+ MB\n"
          ],
          "name": "stdout"
        }
      ]
    },
    {
      "cell_type": "code",
      "metadata": {
        "id": "7KmD2bo6vi_p",
        "colab_type": "code",
        "colab": {
          "base_uri": "https://localhost:8080/",
          "height": 272
        },
        "outputId": "61c09768-b928-4dd2-c289-b61da17ef585"
      },
      "source": [
        "# Delete duplicate columns\n",
        "newDf = msg_df.drop(columns=duplicateColumnNames)\n",
        "print(\"Modified Dataframe\", newDf, sep='\\n')"
      ],
      "execution_count": 16,
      "outputs": [
        {
          "output_type": "stream",
          "text": [
            "Modified Dataframe\n",
            "             0      1   ...                      25                      26\n",
            "0      34304725  25433  ...  2019-06-22 15:37:20+02  2019-06-22 15:37:20+02\n",
            "1      34304726  25433  ...  2019-07-29 20:49:46+02  2019-07-29 20:49:46+02\n",
            "2      34304727  25433  ...  2019-08-02 13:29:20+02  2019-08-02 13:29:20+02\n",
            "3      34304728  25433  ...  2019-03-26 11:31:18+02  2019-03-26 11:31:18+02\n",
            "4      34304729  25433  ...  2019-08-02 13:27:38+02  2019-08-02 13:27:38+02\n",
            "...         ...    ...  ...                     ...                     ...\n",
            "20941  34325666  25432  ...  2019-01-23 09:53:22+02  2019-01-23 09:53:22+02\n",
            "20942  34325667  25432  ...  2019-08-06 14:47:24+02  2019-08-12 13:40:55+02\n",
            "20943  34325668  25431  ...  2019-10-19 16:08:50+02  2019-10-20 12:40:31+02\n",
            "20944  34325669  25431  ...  2019-10-19 16:08:50+02  2019-10-20 12:40:31+02\n",
            "20945  34325670  25431  ...  2019-10-19 16:08:50+02  2019-10-20 12:40:31+02\n",
            "\n",
            "[20946 rows x 21 columns]\n"
          ],
          "name": "stdout"
        }
      ]
    },
    {
      "cell_type": "code",
      "metadata": {
        "id": "riuqB2hizCr9",
        "colab_type": "code",
        "colab": {
          "base_uri": "https://localhost:8080/",
          "height": 34
        },
        "outputId": "2ac9b824-9b8f-41c0-e8d6-578d7e3c0e1c"
      },
      "source": [
        "print(len(columns))"
      ],
      "execution_count": 20,
      "outputs": [
        {
          "output_type": "stream",
          "text": [
            "27\n"
          ],
          "name": "stdout"
        }
      ]
    }
  ]
}